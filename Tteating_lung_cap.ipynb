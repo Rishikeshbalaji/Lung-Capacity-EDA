{
 "cells": [
  {
   "cell_type": "code",
   "execution_count": 3,
   "id": "32d795eb-11cb-41ea-9a06-079bcb4e5134",
   "metadata": {},
   "outputs": [],
   "source": [
    "# Importing the data set \n",
    "import numpy as np\n",
    "import pandas as pd\n",
    "import matplotlib.pyplot as plt\n",
    "import seaborn as sns\n",
    "import scipy.stats as stats\n",
    "import researchpy as rp\n",
    "import warnings\n",
    "warnings.filterwarnings('ignore')"
   ]
  },
  {
   "cell_type": "markdown",
   "id": "cd80bc69-f5e6-42a1-b164-f5cde96b5809",
   "metadata": {},
   "source": [
    "# New libs used "
   ]
  },
  {
   "cell_type": "markdown",
   "id": "b90485f7-80e2-4677-9413-203d6937df94",
   "metadata": {},
   "source": [
    "# Researchpy\n",
    "Researchpy is a tool that simplifies the process of obtaining commonly used statistical information by combining several established packages, including pandas, scipy.stats, numpy, and statsmodels, into a single method."
   ]
  },
  {
   "cell_type": "markdown",
   "id": "879eac81-d547-4793-897f-682ec38064ad",
   "metadata": {},
   "source": [
    "# Scipy\n",
    "SciPy is a library that offers a range of mathematical algorithms and convenient functions that extend the capabilities of the NumPy extension for Python. Its inclusion enhances the functionality of the interactive Python environment by providing users with a variety of high-level commands and classes that enable them to easily manipulate and visualize data."
   ]
  },
  {
   "cell_type": "code",
   "execution_count": 4,
   "id": "cbe31df2-e52a-4b22-a887-a7a17e62b6ba",
   "metadata": {},
   "outputs": [
    {
     "name": "stdout",
     "output_type": "stream",
     "text": [
      "     LungCap  Age  Height Smoke  Gender Caesarean\n",
      "0      6.475    6    62.1    no    male        no\n",
      "1     10.125   18    74.7   yes  female        no\n",
      "2      9.550   16    69.7    no  female       yes\n",
      "3     11.125   14    71.0    no    male        no\n",
      "4      4.800    5    56.9    no    male        no\n",
      "..       ...  ...     ...   ...     ...       ...\n",
      "720    5.725    9    56.0    no  female        no\n",
      "721    9.050   18    72.0   yes    male       yes\n",
      "722    3.850   11    60.5   yes  female        no\n",
      "723    9.825   15    64.9    no  female        no\n",
      "724    7.100   10    67.7    no    male        no\n",
      "\n",
      "[725 rows x 6 columns]\n"
     ]
    }
   ],
   "source": [
    "df = pd.read_csv('LungCapDataCSV.csv')\n",
    "print(df)"
   ]
  },
  {
   "cell_type": "code",
   "execution_count": 5,
   "id": "5aa48579-26c0-40db-be6c-3c34381ac011",
   "metadata": {},
   "outputs": [
    {
     "name": "stdout",
     "output_type": "stream",
     "text": [
      "<class 'pandas.core.frame.DataFrame'>\n",
      "RangeIndex: 725 entries, 0 to 724\n",
      "Data columns (total 6 columns):\n",
      " #   Column     Non-Null Count  Dtype  \n",
      "---  ------     --------------  -----  \n",
      " 0   LungCap    725 non-null    float64\n",
      " 1   Age        725 non-null    int64  \n",
      " 2   Height     725 non-null    float64\n",
      " 3   Smoke      725 non-null    object \n",
      " 4   Gender     725 non-null    object \n",
      " 5   Caesarean  725 non-null    object \n",
      "dtypes: float64(2), int64(1), object(3)\n",
      "memory usage: 34.1+ KB\n"
     ]
    }
   ],
   "source": [
    "df.info()"
   ]
  },
  {
   "cell_type": "code",
   "execution_count": 70,
   "id": "b6c9cfab-e73f-449d-853b-ce78f87f921b",
   "metadata": {},
   "outputs": [
    {
     "data": {
      "text/html": [
       "<div>\n",
       "<style scoped>\n",
       "    .dataframe tbody tr th:only-of-type {\n",
       "        vertical-align: middle;\n",
       "    }\n",
       "\n",
       "    .dataframe tbody tr th {\n",
       "        vertical-align: top;\n",
       "    }\n",
       "\n",
       "    .dataframe thead th {\n",
       "        text-align: right;\n",
       "    }\n",
       "</style>\n",
       "<table border=\"1\" class=\"dataframe\">\n",
       "  <thead>\n",
       "    <tr style=\"text-align: right;\">\n",
       "      <th></th>\n",
       "      <th>LungCap</th>\n",
       "      <th>Age</th>\n",
       "      <th>Height</th>\n",
       "      <th>Smoke</th>\n",
       "      <th>Gender</th>\n",
       "      <th>Caesarean</th>\n",
       "    </tr>\n",
       "  </thead>\n",
       "  <tbody>\n",
       "    <tr>\n",
       "      <th>count</th>\n",
       "      <td>725.000000</td>\n",
       "      <td>725.000000</td>\n",
       "      <td>725.000000</td>\n",
       "      <td>725</td>\n",
       "      <td>725</td>\n",
       "      <td>725</td>\n",
       "    </tr>\n",
       "    <tr>\n",
       "      <th>unique</th>\n",
       "      <td>NaN</td>\n",
       "      <td>NaN</td>\n",
       "      <td>NaN</td>\n",
       "      <td>2</td>\n",
       "      <td>2</td>\n",
       "      <td>2</td>\n",
       "    </tr>\n",
       "    <tr>\n",
       "      <th>top</th>\n",
       "      <td>NaN</td>\n",
       "      <td>NaN</td>\n",
       "      <td>NaN</td>\n",
       "      <td>no</td>\n",
       "      <td>male</td>\n",
       "      <td>no</td>\n",
       "    </tr>\n",
       "    <tr>\n",
       "      <th>freq</th>\n",
       "      <td>NaN</td>\n",
       "      <td>NaN</td>\n",
       "      <td>NaN</td>\n",
       "      <td>648</td>\n",
       "      <td>367</td>\n",
       "      <td>561</td>\n",
       "    </tr>\n",
       "    <tr>\n",
       "      <th>mean</th>\n",
       "      <td>7.863148</td>\n",
       "      <td>12.326897</td>\n",
       "      <td>64.836276</td>\n",
       "      <td>NaN</td>\n",
       "      <td>NaN</td>\n",
       "      <td>NaN</td>\n",
       "    </tr>\n",
       "    <tr>\n",
       "      <th>std</th>\n",
       "      <td>2.662008</td>\n",
       "      <td>4.004750</td>\n",
       "      <td>7.202144</td>\n",
       "      <td>NaN</td>\n",
       "      <td>NaN</td>\n",
       "      <td>NaN</td>\n",
       "    </tr>\n",
       "    <tr>\n",
       "      <th>min</th>\n",
       "      <td>0.507000</td>\n",
       "      <td>3.000000</td>\n",
       "      <td>45.300000</td>\n",
       "      <td>NaN</td>\n",
       "      <td>NaN</td>\n",
       "      <td>NaN</td>\n",
       "    </tr>\n",
       "    <tr>\n",
       "      <th>25%</th>\n",
       "      <td>6.150000</td>\n",
       "      <td>9.000000</td>\n",
       "      <td>59.900000</td>\n",
       "      <td>NaN</td>\n",
       "      <td>NaN</td>\n",
       "      <td>NaN</td>\n",
       "    </tr>\n",
       "    <tr>\n",
       "      <th>50%</th>\n",
       "      <td>8.000000</td>\n",
       "      <td>13.000000</td>\n",
       "      <td>65.400000</td>\n",
       "      <td>NaN</td>\n",
       "      <td>NaN</td>\n",
       "      <td>NaN</td>\n",
       "    </tr>\n",
       "    <tr>\n",
       "      <th>75%</th>\n",
       "      <td>9.800000</td>\n",
       "      <td>15.000000</td>\n",
       "      <td>70.300000</td>\n",
       "      <td>NaN</td>\n",
       "      <td>NaN</td>\n",
       "      <td>NaN</td>\n",
       "    </tr>\n",
       "    <tr>\n",
       "      <th>max</th>\n",
       "      <td>14.675000</td>\n",
       "      <td>19.000000</td>\n",
       "      <td>81.800000</td>\n",
       "      <td>NaN</td>\n",
       "      <td>NaN</td>\n",
       "      <td>NaN</td>\n",
       "    </tr>\n",
       "  </tbody>\n",
       "</table>\n",
       "</div>"
      ],
      "text/plain": [
       "           LungCap         Age      Height Smoke Gender Caesarean\n",
       "count   725.000000  725.000000  725.000000   725    725       725\n",
       "unique         NaN         NaN         NaN     2      2         2\n",
       "top            NaN         NaN         NaN    no   male        no\n",
       "freq           NaN         NaN         NaN   648    367       561\n",
       "mean      7.863148   12.326897   64.836276   NaN    NaN       NaN\n",
       "std       2.662008    4.004750    7.202144   NaN    NaN       NaN\n",
       "min       0.507000    3.000000   45.300000   NaN    NaN       NaN\n",
       "25%       6.150000    9.000000   59.900000   NaN    NaN       NaN\n",
       "50%       8.000000   13.000000   65.400000   NaN    NaN       NaN\n",
       "75%       9.800000   15.000000   70.300000   NaN    NaN       NaN\n",
       "max      14.675000   19.000000   81.800000   NaN    NaN       NaN"
      ]
     },
     "execution_count": 70,
     "metadata": {},
     "output_type": "execute_result"
    }
   ],
   "source": [
    "df.describe(include='all')"
   ]
  },
  {
   "cell_type": "code",
   "execution_count": 73,
   "id": "360448e4-d6f3-4da6-a3bf-4c608f1f54e3",
   "metadata": {},
   "outputs": [
    {
     "name": "stdout",
     "output_type": "stream",
     "text": [
      "77\n",
      "648\n"
     ]
    }
   ],
   "source": [
    "print(df['Smoke'].value_counts()['yes'])\n",
    "print(df['Smoke'].value_counts()['no'])"
   ]
  },
  {
   "cell_type": "code",
   "execution_count": 6,
   "id": "1320680b-cf43-45b8-a42a-8873c133b518",
   "metadata": {},
   "outputs": [
    {
     "name": "stdout",
     "output_type": "stream",
     "text": [
      "0       6.475\n",
      "1      10.125\n",
      "2       9.550\n",
      "3      11.125\n",
      "4       4.800\n",
      "        ...  \n",
      "720     5.725\n",
      "721     9.050\n",
      "722     3.850\n",
      "723     9.825\n",
      "724     7.100\n",
      "Name: LungCap, Length: 725, dtype: float64\n"
     ]
    }
   ],
   "source": [
    "lung_cap = df.LungCap\n",
    "print(lung_cap)"
   ]
  },
  {
   "cell_type": "code",
   "execution_count": 19,
   "id": "b7130083-f736-438c-8686-8f61012a623b",
   "metadata": {},
   "outputs": [
    {
     "data": {
      "image/png": "[encoded data removed]",
      "text/plain": [
       "<Figure size 640x480 with 1 Axes>"
      ]
     },
     "metadata": {},
     "output_type": "display_data"
    }
   ],
   "source": [
    "sns.boxplot(x='Smoke',data=df,y='LungCap')\n",
    "plt.xlabel('Smoke')\n",
    "plt.ylabel('LungCap')\n",
    "plt.title('Smoke VS Lung Capacity')\n",
    "plt.show()"
   ]
  },
  {
   "cell_type": "markdown",
   "id": "975bcda5-ac68-4a99-87d5-6414b1e10486",
   "metadata": {},
   "source": [
    "### Total mean of lung capacity"
   ]
  },
  {
   "cell_type": "code",
   "execution_count": 7,
   "id": "2fb4b421-e2a1-4ab8-a23e-d0bb27798a89",
   "metadata": {},
   "outputs": [
    {
     "data": {
      "text/plain": [
       "7.863147586206895"
      ]
     },
     "execution_count": 7,
     "metadata": {},
     "output_type": "execute_result"
    }
   ],
   "source": [
    "lung_cap.mean()"
   ]
  },
  {
   "cell_type": "markdown",
   "id": "15973fa1-efed-4bd8-b941-bac1098666b9",
   "metadata": {},
   "source": [
    "### Identifing the mean for smokers and non smokers "
   ]
  },
  {
   "cell_type": "code",
   "execution_count": 13,
   "id": "cfd45212-702d-4250-a780-d6707272a971",
   "metadata": {},
   "outputs": [
    {
     "data": {
      "text/plain": [
       "Smoke\n",
       "no     7.770188\n",
       "yes    8.645455\n",
       "Name: LungCap, dtype: float64"
      ]
     },
     "execution_count": 13,
     "metadata": {},
     "output_type": "execute_result"
    }
   ],
   "source": [
    "df.groupby('Smoke')['LungCap'].mean()"
   ]
  },
  {
   "cell_type": "markdown",
   "id": "59829790-18f0-47f7-ac22-59ef336a26f6",
   "metadata": {},
   "source": [
    "Mean of smokers is 8.645455\n",
    "\n",
    "Mean of non-smokers is 7.770188"
   ]
  },
  {
   "cell_type": "markdown",
   "id": "6412a6c3-530c-47c3-946d-0550d5cbd567",
   "metadata": {},
   "source": [
    "# Null Hypothesis testing"
   ]
  },
  {
   "cell_type": "markdown",
   "id": "4ab0c0d9-6348-4ebc-a309-a6a36a1dac18",
   "metadata": {},
   "source": [
    "### Asuming the Null mean as the average human lung capacity "
   ]
  },
  {
   "cell_type": "code",
   "execution_count": 60,
   "id": "19ef0111-964e-41de-acb6-2b668b03288f",
   "metadata": {},
   "outputs": [
    {
     "name": "stdout",
     "output_type": "stream",
     "text": [
      "t-statistic: 17.921199150461884\n",
      "p-value: 5.185077245031116e-29\n",
      "We reject the null hypothesis that the mean lung capacity of smokers is 7.863.\n"
     ]
    }
   ],
   "source": [
    "# Null hypothesis: the mean lung capacity is 4.8 liters\n",
    "null_mean = 4.8\n",
    "\n",
    "# Perform one-sample t-test\n",
    "t_stat, p_val = stats.ttest_1samp(df['LungCap'][df['Smoke'] == 'yes'], null_mean)\n",
    "\n",
    "print(\"t-statistic:\", t_stat)\n",
    "print(\"p-value:\", p_val)\n",
    "\n",
    "# Interpret the results\n",
    "if p_value < 4.8:\n",
    "    print(\"We reject the null hypothesis that the mean lung capacity of smokers is 7.863.\")\n",
    "else:\n",
    "    print(\"We fail to reject the null hypothesis that the mean lung capacity of smokers is 7.863.\")"
   ]
  },
  {
   "cell_type": "markdown",
   "id": "8359c599-84b4-4e4a-845e-c6e504b06eae",
   "metadata": {},
   "source": [
    "The t-statistic is 17.92 and the p-value is 5.185 x 10^-29. \n",
    "\n",
    "This indicates that there is a significant difference between the means of the two groups being compared. \n",
    "\n",
    "The p-value being very small suggests that the difference in means is not likely to have occurred by chance, and thus, we reject the null hypothesis. \n",
    "\n",
    "The magnitude of the t-statistic indicates a large difference in the means of the two groups."
   ]
  },
  {
   "cell_type": "markdown",
   "id": "7f12c1a8-1eb6-4143-a139-5b2eb1f20b4a",
   "metadata": {},
   "source": [
    "### Asuming the Null mean as the average human lung capacity from the dataset"
   ]
  },
  {
   "cell_type": "code",
   "execution_count": 62,
   "id": "cc47bf39-bf7c-48f0-af4b-704db1107fbc",
   "metadata": {},
   "outputs": [
    {
     "name": "stdout",
     "output_type": "stream",
     "text": [
      "t-statistic: 4.079932572551972\n",
      "p-value: 0.00011011768695885748\n",
      "We reject the null hypothesis that the mean lung capacity of smokers is 7.77.\n"
     ]
    }
   ],
   "source": [
    "null_mean = 7.77\n",
    "\n",
    "# Perform one-sample t-test\n",
    "t_stat, p_val = stats.ttest_1samp(df['LungCap'][df['Smoke'] == 'yes'], null_mean)\n",
    "\n",
    "print(\"t-statistic:\", t_stat)\n",
    "print(\"p-value:\", p_val)\n",
    "\n",
    "# Interpret the results\n",
    "if p_value < 7.77:\n",
    "    print(\"We reject the null hypothesis that the mean lung capacity of smokers is 7.77.\")\n",
    "else:\n",
    "    print(\"We fail to reject the null hypothesis that the mean lung capacity of smokers is 7.77.\")"
   ]
  },
  {
   "cell_type": "markdown",
   "id": "33c99a4f-d236-42c7-8ba0-2266dc269366",
   "metadata": {},
   "source": [
    "The t-test result shows a t-statistic value of 4.08 and a p-value of 0.0001, which indicates that the sample mean significantly differs from the hypothesized population mean. \n",
    "\n",
    "Therefore, we can reject the null hypothesis that the population mean is equal to a specific value, and conclude that the sample mean is significantly different from the hypothesized population mean."
   ]
  },
  {
   "cell_type": "markdown",
   "id": "809546c7-391a-483f-bac0-dd81e1b272ba",
   "metadata": {},
   "source": [
    "### Asuming the Null mean as the average human lung capacity from the dataset for non-smokers"
   ]
  },
  {
   "cell_type": "code",
   "execution_count": 98,
   "id": "bb9ac024-6f7a-481b-87c8-7dedc8dd91f4",
   "metadata": {},
   "outputs": [
    {
     "name": "stdout",
     "output_type": "stream",
     "text": [
      "t-statistic: 4.0790564250379475\n",
      "p-value: 0.00011045829703029563\n",
      "We reject the null hypothesis that the mean lung capacity of smokers is 7.77.\n"
     ]
    }
   ],
   "source": [
    "# Null hypothesis: the mean lung capacity is 7.770188 liters\n",
    "null_mean = 7.770188\n",
    "\n",
    "# Perform one-sample t-test\n",
    "t_stat, p_val = stats.ttest_1samp(df['LungCap'][df['Smoke'] == 'yes'], null_mean)\n",
    "\n",
    "print(\"t-statistic:\", t_stat)\n",
    "print(\"p-value:\", p_val)\n",
    "# Interpret the results\n",
    "if p_value < 7.77:\n",
    "    print(\"We reject the null hypothesis that the mean lung capacity of smokers is 7.77.\")\n",
    "else:\n",
    "    print(\"We fail to reject the null hypothesis that the mean lung capacity of smokers is 7.77.\")"
   ]
  },
  {
   "cell_type": "markdown",
   "id": "ca3b16d2-03ed-4140-b2a8-23b88245ecbe",
   "metadata": {},
   "source": [
    "The t-test with a t-statistic of 4.079 and a p-value of 0.0001 suggests strong evidence against the null hypothesis. \n",
    "\n",
    "The null hypothesis stated that the mean lung capacity of smokers is 7.77. \n",
    "\n",
    "Therefore, we reject the null hypothesis and conclude that the mean lung capacity of smokers is significantly different from 7.77. \n",
    "\n",
    "The alternative hypothesis, which states that the mean lung capacity of smokers is not equal to 7.77, is supported by the data. This implies that smoking has a significant effect on lung capacity."
   ]
  },
  {
   "cell_type": "markdown",
   "id": "49a3f82e-dc82-4ae1-a037-f4f73b6f92df",
   "metadata": {},
   "source": [
    "### Asuming the Null mean as the average human lung capacity from the dataset for smokers"
   ]
  },
  {
   "cell_type": "code",
   "execution_count": 63,
   "id": "4c62182d-e5a3-4c53-b60e-51ca9832e6bd",
   "metadata": {},
   "outputs": [
    {
     "name": "stdout",
     "output_type": "stream",
     "text": [
      "t-statistic: 0.025420140638963005\n",
      "p-value: 0.979786474538568\n",
      "We reject the null hypothesis that the mean lung capacity of smokers is 8.64.\n"
     ]
    }
   ],
   "source": [
    "# Null hypothesis: the mean lung capacity is 8.645455 liters\n",
    "null_mean = 8.64\n",
    "\n",
    "# Perform one-sample t-test\n",
    "t_stat, p_val = stats.ttest_1samp(df['LungCap'][df['Smoke'] == 'yes'],null_mean)\n",
    "\n",
    "print(\"t-statistic:\", t_stat)\n",
    "print(\"p-value:\", p_val)\n",
    "\n",
    "# Interpret the results\n",
    "if p_value < 8.64:\n",
    "    print(\"We reject the null hypothesis that the mean lung capacity of smokers is 8.64.\")\n",
    "else:\n",
    "    print(\"We fail to reject the null hypothesis that the mean lung capacity of smokers is 8.64.\")"
   ]
  },
  {
   "cell_type": "markdown",
   "id": "f15efe65-4996-489d-8f83-134940ed614c",
   "metadata": {},
   "source": [
    "The obtained t-statistic is very small (0.025) and the p-value is very large (0.98), indicating that there is no significant difference between the mean lung capacity of smokers and the assumed population mean of 8.64. \n",
    "\n",
    "Therefore, we fail to reject the null hypothesis and conclude that there is insufficient evidence to suggest that the mean lung capacity of smokers is significantly different from 8.64."
   ]
  },
  {
   "cell_type": "code",
   "execution_count": 97,
   "id": "5ae2b65e-0863-40a6-85fb-de0976f2b75b",
   "metadata": {},
   "outputs": [
    {
     "data": {
      "text/plain": [
       "(      Variable      N      Mean        SD        SE  95% Conf.  Interval\n",
       " 0      Smokers   77.0  8.645455  1.882894  0.214576   8.218090  9.072819\n",
       " 1  Non-smokers  648.0  7.770188  2.726113  0.107092   7.559899  7.980478\n",
       " 2     combined  725.0  7.863148  2.662008  0.098865   7.669052  8.057243,\n",
       "                       Independent t-test   results\n",
       " 0  Difference (Smokers - Non-smokers) =     0.8753\n",
       " 1                  Degrees of freedom =   723.0000\n",
       " 2                                   t =     2.7399\n",
       " 3               Two side test p value =     0.0063\n",
       " 4              Difference < 0 p value =     0.9969\n",
       " 5              Difference > 0 p value =     0.0031\n",
       " 6                           Cohen's d =     0.3303\n",
       " 7                           Hedge's g =     0.3299\n",
       " 8                      Glass's delta1 =     0.4649\n",
       " 9                    Point-Biserial r =     0.1014)"
      ]
     },
     "execution_count": 97,
     "metadata": {},
     "output_type": "execute_result"
    }
   ],
   "source": [
    "rp.ttest(group1= df['LungCap'][df['Smoke'] == 'yes'], group1_name= \"Smokers\",\n",
    "         group2= df['LungCap'][df['Smoke'] == 'no'], group2_name= \"Non-smokers\")\n"
   ]
  },
  {
   "cell_type": "markdown",
   "id": "06ce9804-3093-42a1-b3d3-793b3f486bd3",
   "metadata": {},
   "source": [
    "The independent t-test results show that there is a significant difference in mean lung capacity between smokers and non-smokers. The mean lung capacity of smokers (8.645 liters) is higher than that of non-smokers (7.770 liters), with a difference of 0.8753 liters. \n",
    "\n",
    "The t-statistic of 2.7399 indicates that this difference is statistically significant, with a two-sided p-value of 0.0063. \n",
    "\n",
    "This means that the probability of obtaining such a difference by chance is less than 0.01, which is considered statistically significant. The effect size measures (Cohen's d, Hedge's g, Glass's delta1, and Point-Biserial r) suggest a small to moderate effect of smoking on lung capacity."
   ]
  },
  {
   "cell_type": "code",
   "execution_count": 95,
   "id": "2766f774-9791-4a62-b38b-4cb7916f9421",
   "metadata": {},
   "outputs": [
    {
     "data": {
      "text/plain": [
       "Ttest_indResult(statistic=nan, pvalue=nan)"
      ]
     },
     "execution_count": 95,
     "metadata": {},
     "output_type": "execute_result"
    }
   ],
   "source": [
    "stats.ttest_ind(df['LungCap'][df['Smoke'] == 'yes '],\n",
    "                df['LungCap'][df['Smoke'] == 'no'])"
   ]
  },
  {
   "cell_type": "code",
   "execution_count": 45,
   "id": "37b385c1-cbbc-4b56-9742-c1bbb7f6b33c",
   "metadata": {},
   "outputs": [
    {
     "name": "stdout",
     "output_type": "stream",
     "text": [
      "t-statistic: nan\n",
      "p-value: nan\n"
     ]
    }
   ],
   "source": [
    "smokers = df[df['Smoke'] == 'Yes']['LungCap']\n",
    "non_smokers = df[df['Smoke'] == 'No']['LungCap']\n",
    "\n",
    "# Conduct a two-sided t-test assuming equal variances\n",
    "t_statistic, p_value = stats.ttest_ind(smokers, non_smokers, equal_var=True)\n",
    "\n",
    "# Print the results\n",
    "print('t-statistic:', t_statistic)\n",
    "print('p-value:', p_value)"
   ]
  },
  {
   "cell_type": "markdown",
   "id": "5776244c-3128-4620-bb4a-315edcdcbf68",
   "metadata": {},
   "source": [
    "# Plotting "
   ]
  },
  {
   "cell_type": "code",
   "execution_count": 90,
   "id": "a3cce043-28fb-4878-bb57-7be9b4867ed5",
   "metadata": {},
   "outputs": [
    {
     "data": {
      "image/png": "[encoded data removed]",
      "text/plain": [
       "<Figure size 640x480 with 1 Axes>"
      ]
     },
     "metadata": {},
     "output_type": "display_data"
    }
   ],
   "source": [
    "# Perform t-test and extract p-values\n",
    "smokers = df[df['Smoke'] == 'yes']['LungCap']\n",
    "non_smokers = df[df['Smoke'] == 'no']['LungCap']\n",
    "t_statistic, p_value = stats.ttest_ind(smokers, non_smokers)\n",
    "\n",
    "# Plot p-values\n",
    "plt.boxplot(range(len(df)), [p_value if row['Smoke'] == 'yes' else 1-p_value for _, row in df.iterrows()])\n",
    "plt.xlabel('Observation Index')\n",
    "plt.ylabel('p-value')\n",
    "plt.show()"
   ]
  },
  {
   "cell_type": "markdown",
   "id": "95bcadb2-cbbd-4ce5-a600-64977112f21f",
   "metadata": {},
   "source": [
    "Based on the t-test conducted on the lung capacity data, the null hypothesis that the mean lung capacity of the population is equal to 7.77 is rejected at a significance level of 0.05, with a t-statistic of 4.0790564250379475 and a p-value of 0.00011045829703029563. This suggests that the mean lung capacity of the population is significantly different from 6.\n"
   ]
  },
  {
   "cell_type": "code",
   "execution_count": null,
   "id": "0d73d095-93c1-4397-a916-6b5d6e43f373",
   "metadata": {},
   "outputs": [],
   "source": []
  }
 ],
 "metadata": {
  "kernelspec": {
   "display_name": "Python 3 (ipykernel)",
   "language": "python",
   "name": "python3"
  },
  "language_info": {
   "codemirror_mode": {
    "name": "ipython",
    "version": 3
   },
   "file_extension": ".py",
   "mimetype": "text/x-python",
   "name": "python",
   "nbconvert_exporter": "python",
   "pygments_lexer": "ipython3",
   "version": "3.11.1"
  }
 },
 "nbformat": 4,
 "nbformat_minor": 5
}
